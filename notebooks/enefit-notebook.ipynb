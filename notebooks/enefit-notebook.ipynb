{
 "cells": [
  {
   "cell_type": "markdown",
   "id": "97de3853-60d3-46f0-92a3-bb0ce2799992",
   "metadata": {},
   "source": [
    "# IMPORT"
   ]
  },
  {
   "cell_type": "markdown",
   "id": "d9820963-ca2d-47fa-9aaf-e782106e6cea",
   "metadata": {},
   "source": [
    "# DATA TRANSFORMATION\n",
    "Hereafter we transform the csv in parquet for perfomance improvement. se "
   ]
  },
  {
   "cell_type": "code",
   "execution_count": 1,
   "id": "6aebb187",
   "metadata": {},
   "outputs": [
    {
     "data": {
      "text/html": [
       "<pre style=\"white-space:pre;overflow-x:auto;line-height:normal;font-family:Menlo,'DejaVu Sans Mono',consolas,'Courier New',monospace\"></pre>\n"
      ],
      "text/plain": []
     },
     "metadata": {},
     "output_type": "display_data"
    },
    {
     "data": {
      "text/plain": [
       "\n",
       "\u001b[1m[\u001b[0m\n",
       "    \u001b[32m'client'\u001b[0m,\n",
       "    \u001b[32m'electricity_prices'\u001b[0m,\n",
       "    \u001b[32m'forecast_weather'\u001b[0m,\n",
       "    \u001b[32m'gas_prices'\u001b[0m,\n",
       "    \u001b[32m'historical_weather'\u001b[0m,\n",
       "    \u001b[32m'train'\u001b[0m,\n",
       "    \u001b[32m'county_id_to_name_map'\u001b[0m,\n",
       "    \u001b[32m'client_eg'\u001b[0m,\n",
       "    \u001b[32m'electricity_prices_eg'\u001b[0m,\n",
       "    \u001b[32m'forecast_weather_eg'\u001b[0m,\n",
       "    \u001b[32m'gas_prices_eg'\u001b[0m,\n",
       "    \u001b[32m'historical_weather_eg'\u001b[0m,\n",
       "    \u001b[32m'revealed_targets'\u001b[0m,\n",
       "    \u001b[32m'sample_submission'\u001b[0m,\n",
       "    \u001b[32m'test'\u001b[0m,\n",
       "    \u001b[32m'metrics'\u001b[0m,\n",
       "    \u001b[32m'parameters'\u001b[0m\n",
       "\u001b[1m]\u001b[0m"
      ]
     },
     "execution_count": 1,
     "metadata": {},
     "output_type": "execute_result"
    }
   ],
   "source": [
    "catalog.list()"
   ]
  },
  {
   "cell_type": "code",
   "execution_count": 4,
   "id": "4d89bca3",
   "metadata": {},
   "outputs": [
    {
     "data": {
      "text/html": [
       "<pre style=\"white-space:pre;overflow-x:auto;line-height:normal;font-family:Menlo,'DejaVu Sans Mono',consolas,'Courier New',monospace\"><span style=\"color: #7fbfbf; text-decoration-color: #7fbfbf\">[11/09/23 16:30:27] </span><span style=\"color: #000080; text-decoration-color: #000080\">INFO    </span> Loading data from <span style=\"color: #008000; text-decoration-color: #008000\">'electricity_prices'</span> <span style=\"font-weight: bold\">(</span>CSVDataset<span style=\"font-weight: bold\">)</span><span style=\"color: #808000; text-decoration-color: #808000\">...</span>             <a href=\"file:///home/ensai/.pyenv/versions/3.9.18/envs/enefit/lib/python3.9/site-packages/kedro/io/data_catalog.py\" target=\"_blank\"><span style=\"color: #7f7f7f; text-decoration-color: #7f7f7f\">data_catalog.py</span></a><span style=\"color: #7f7f7f; text-decoration-color: #7f7f7f\">:</span><a href=\"file:///home/ensai/.pyenv/versions/3.9.18/envs/enefit/lib/python3.9/site-packages/kedro/io/data_catalog.py#502\" target=\"_blank\"><span style=\"color: #7f7f7f; text-decoration-color: #7f7f7f\">502</span></a>\n",
       "</pre>\n"
      ],
      "text/plain": [
       "\u001b[2;36m[11/09/23 16:30:27]\u001b[0m\u001b[2;36m \u001b[0m\u001b[34mINFO    \u001b[0m Loading data from \u001b[32m'electricity_prices'\u001b[0m \u001b[1m(\u001b[0mCSVDataset\u001b[1m)\u001b[0m\u001b[33m...\u001b[0m             \u001b]8;id=145041;file:///home/ensai/.pyenv/versions/3.9.18/envs/enefit/lib/python3.9/site-packages/kedro/io/data_catalog.py\u001b\\\u001b[2mdata_catalog.py\u001b[0m\u001b]8;;\u001b\\\u001b[2m:\u001b[0m\u001b]8;id=538921;file:///home/ensai/.pyenv/versions/3.9.18/envs/enefit/lib/python3.9/site-packages/kedro/io/data_catalog.py#502\u001b\\\u001b[2m502\u001b[0m\u001b]8;;\u001b\\\n"
      ]
     },
     "metadata": {},
     "output_type": "display_data"
    },
    {
     "data": {
      "text/html": [
       "<pre style=\"white-space:pre;overflow-x:auto;line-height:normal;font-family:Menlo,'DejaVu Sans Mono',consolas,'Courier New',monospace\"></pre>\n"
      ],
      "text/plain": []
     },
     "metadata": {},
     "output_type": "display_data"
    },
    {
     "data": {
      "text/html": [
       "<div>\n",
       "<style scoped>\n",
       "    .dataframe tbody tr th:only-of-type {\n",
       "        vertical-align: middle;\n",
       "    }\n",
       "\n",
       "    .dataframe tbody tr th {\n",
       "        vertical-align: top;\n",
       "    }\n",
       "\n",
       "    .dataframe thead th {\n",
       "        text-align: right;\n",
       "    }\n",
       "</style>\n",
       "<table border=\"1\" class=\"dataframe\">\n",
       "  <thead>\n",
       "    <tr style=\"text-align: right;\">\n",
       "      <th></th>\n",
       "      <th>forecast_date</th>\n",
       "      <th>euros_per_mwh</th>\n",
       "      <th>origin_date</th>\n",
       "      <th>data_block_id</th>\n",
       "    </tr>\n",
       "  </thead>\n",
       "  <tbody>\n",
       "    <tr>\n",
       "      <th>0</th>\n",
       "      <td>2021-09-01 00:00:00</td>\n",
       "      <td>92.51</td>\n",
       "      <td>2021-08-31 00:00:00</td>\n",
       "      <td>1</td>\n",
       "    </tr>\n",
       "    <tr>\n",
       "      <th>1</th>\n",
       "      <td>2021-09-01 01:00:00</td>\n",
       "      <td>88.90</td>\n",
       "      <td>2021-08-31 01:00:00</td>\n",
       "      <td>1</td>\n",
       "    </tr>\n",
       "    <tr>\n",
       "      <th>2</th>\n",
       "      <td>2021-09-01 02:00:00</td>\n",
       "      <td>87.35</td>\n",
       "      <td>2021-08-31 02:00:00</td>\n",
       "      <td>1</td>\n",
       "    </tr>\n",
       "    <tr>\n",
       "      <th>3</th>\n",
       "      <td>2021-09-01 03:00:00</td>\n",
       "      <td>86.88</td>\n",
       "      <td>2021-08-31 03:00:00</td>\n",
       "      <td>1</td>\n",
       "    </tr>\n",
       "    <tr>\n",
       "      <th>4</th>\n",
       "      <td>2021-09-01 04:00:00</td>\n",
       "      <td>88.43</td>\n",
       "      <td>2021-08-31 04:00:00</td>\n",
       "      <td>1</td>\n",
       "    </tr>\n",
       "    <tr>\n",
       "      <th>...</th>\n",
       "      <td>...</td>\n",
       "      <td>...</td>\n",
       "      <td>...</td>\n",
       "      <td>...</td>\n",
       "    </tr>\n",
       "    <tr>\n",
       "      <th>15281</th>\n",
       "      <td>2023-05-30 19:00:00</td>\n",
       "      <td>82.10</td>\n",
       "      <td>2023-05-29 19:00:00</td>\n",
       "      <td>637</td>\n",
       "    </tr>\n",
       "    <tr>\n",
       "      <th>15282</th>\n",
       "      <td>2023-05-30 20:00:00</td>\n",
       "      <td>150.85</td>\n",
       "      <td>2023-05-29 20:00:00</td>\n",
       "      <td>637</td>\n",
       "    </tr>\n",
       "    <tr>\n",
       "      <th>15283</th>\n",
       "      <td>2023-05-30 21:00:00</td>\n",
       "      <td>82.10</td>\n",
       "      <td>2023-05-29 21:00:00</td>\n",
       "      <td>637</td>\n",
       "    </tr>\n",
       "    <tr>\n",
       "      <th>15284</th>\n",
       "      <td>2023-05-30 22:00:00</td>\n",
       "      <td>82.09</td>\n",
       "      <td>2023-05-29 22:00:00</td>\n",
       "      <td>637</td>\n",
       "    </tr>\n",
       "    <tr>\n",
       "      <th>15285</th>\n",
       "      <td>2023-05-30 23:00:00</td>\n",
       "      <td>-1.29</td>\n",
       "      <td>2023-05-29 23:00:00</td>\n",
       "      <td>637</td>\n",
       "    </tr>\n",
       "  </tbody>\n",
       "</table>\n",
       "<p>15286 rows × 4 columns</p>\n",
       "</div>"
      ],
      "text/plain": [
       "\n",
       "             forecast_date  euros_per_mwh          origin_date  data_block_id\n",
       "\u001b[1;36m0\u001b[0m      \u001b[1;36m2021\u001b[0m-\u001b[1;36m09\u001b[0m-\u001b[1;36m01\u001b[0m \u001b[1;92m00:00:00\u001b[0m          \u001b[1;36m92.51\u001b[0m  \u001b[1;36m2021\u001b[0m-\u001b[1;36m08\u001b[0m-\u001b[1;36m31\u001b[0m \u001b[1;92m00:00:00\u001b[0m              \u001b[1;36m1\u001b[0m\n",
       "\u001b[1;36m1\u001b[0m      \u001b[1;36m2021\u001b[0m-\u001b[1;36m09\u001b[0m-\u001b[1;36m01\u001b[0m \u001b[1;92m01:00:00\u001b[0m          \u001b[1;36m88.90\u001b[0m  \u001b[1;36m2021\u001b[0m-\u001b[1;36m08\u001b[0m-\u001b[1;36m31\u001b[0m \u001b[1;92m01:00:00\u001b[0m              \u001b[1;36m1\u001b[0m\n",
       "\u001b[1;36m2\u001b[0m      \u001b[1;36m2021\u001b[0m-\u001b[1;36m09\u001b[0m-\u001b[1;36m01\u001b[0m \u001b[1;92m02:00:00\u001b[0m          \u001b[1;36m87.35\u001b[0m  \u001b[1;36m2021\u001b[0m-\u001b[1;36m08\u001b[0m-\u001b[1;36m31\u001b[0m \u001b[1;92m02:00:00\u001b[0m              \u001b[1;36m1\u001b[0m\n",
       "\u001b[1;36m3\u001b[0m      \u001b[1;36m2021\u001b[0m-\u001b[1;36m09\u001b[0m-\u001b[1;36m01\u001b[0m \u001b[1;92m03:00:00\u001b[0m          \u001b[1;36m86.88\u001b[0m  \u001b[1;36m2021\u001b[0m-\u001b[1;36m08\u001b[0m-\u001b[1;36m31\u001b[0m \u001b[1;92m03:00:00\u001b[0m              \u001b[1;36m1\u001b[0m\n",
       "\u001b[1;36m4\u001b[0m      \u001b[1;36m2021\u001b[0m-\u001b[1;36m09\u001b[0m-\u001b[1;36m01\u001b[0m \u001b[1;92m04:00:00\u001b[0m          \u001b[1;36m88.43\u001b[0m  \u001b[1;36m2021\u001b[0m-\u001b[1;36m08\u001b[0m-\u001b[1;36m31\u001b[0m \u001b[1;92m04:00:00\u001b[0m              \u001b[1;36m1\u001b[0m\n",
       "\u001b[33m...\u001b[0m                    \u001b[33m...\u001b[0m            \u001b[33m...\u001b[0m                  \u001b[33m...\u001b[0m            \u001b[33m...\u001b[0m\n",
       "\u001b[1;36m15281\u001b[0m  \u001b[1;36m2023\u001b[0m-\u001b[1;36m05\u001b[0m-\u001b[1;36m30\u001b[0m \u001b[1;92m19:00:00\u001b[0m          \u001b[1;36m82.10\u001b[0m  \u001b[1;36m2023\u001b[0m-\u001b[1;36m05\u001b[0m-\u001b[1;36m29\u001b[0m \u001b[1;92m19:00:00\u001b[0m            \u001b[1;36m637\u001b[0m\n",
       "\u001b[1;36m15282\u001b[0m  \u001b[1;36m2023\u001b[0m-\u001b[1;36m05\u001b[0m-\u001b[1;36m30\u001b[0m \u001b[1;92m20:00:00\u001b[0m         \u001b[1;36m150.85\u001b[0m  \u001b[1;36m2023\u001b[0m-\u001b[1;36m05\u001b[0m-\u001b[1;36m29\u001b[0m \u001b[1;92m20:00:00\u001b[0m            \u001b[1;36m637\u001b[0m\n",
       "\u001b[1;36m15283\u001b[0m  \u001b[1;36m2023\u001b[0m-\u001b[1;36m05\u001b[0m-\u001b[1;36m30\u001b[0m \u001b[1;92m21:00:00\u001b[0m          \u001b[1;36m82.10\u001b[0m  \u001b[1;36m2023\u001b[0m-\u001b[1;36m05\u001b[0m-\u001b[1;36m29\u001b[0m \u001b[1;92m21:00:00\u001b[0m            \u001b[1;36m637\u001b[0m\n",
       "\u001b[1;36m15284\u001b[0m  \u001b[1;36m2023\u001b[0m-\u001b[1;36m05\u001b[0m-\u001b[1;36m30\u001b[0m \u001b[1;92m22:00:00\u001b[0m          \u001b[1;36m82.09\u001b[0m  \u001b[1;36m2023\u001b[0m-\u001b[1;36m05\u001b[0m-\u001b[1;36m29\u001b[0m \u001b[1;92m22:00:00\u001b[0m            \u001b[1;36m637\u001b[0m\n",
       "\u001b[1;36m15285\u001b[0m  \u001b[1;36m2023\u001b[0m-\u001b[1;36m05\u001b[0m-\u001b[1;36m30\u001b[0m \u001b[1;92m23:00:00\u001b[0m          \u001b[1;36m-1.29\u001b[0m  \u001b[1;36m2023\u001b[0m-\u001b[1;36m05\u001b[0m-\u001b[1;36m29\u001b[0m \u001b[1;92m23:00:00\u001b[0m            \u001b[1;36m637\u001b[0m\n",
       "\n",
       "\u001b[1m[\u001b[0m\u001b[1;36m15286\u001b[0m rows x \u001b[1;36m4\u001b[0m columns\u001b[1m]\u001b[0m"
      ]
     },
     "execution_count": 4,
     "metadata": {},
     "output_type": "execute_result"
    }
   ],
   "source": [
    "catalog.load(\"electricity_prices\")"
   ]
  },
  {
   "cell_type": "code",
   "execution_count": 5,
   "id": "f2c7df8c",
   "metadata": {},
   "outputs": [
    {
     "data": {
      "text/html": [
       "<pre style=\"white-space:pre;overflow-x:auto;line-height:normal;font-family:Menlo,'DejaVu Sans Mono',consolas,'Courier New',monospace\"></pre>\n"
      ],
      "text/plain": []
     },
     "metadata": {},
     "output_type": "display_data"
    },
    {
     "data": {
      "text/plain": [
       "\u001b[1;35mPosixPath\u001b[0m\u001b[1m(\u001b[0m\u001b[32m'/home/ensai/dev/enefit'\u001b[0m\u001b[1m)\u001b[0m"
      ]
     },
     "execution_count": 5,
     "metadata": {},
     "output_type": "execute_result"
    }
   ],
   "source": [
    "context.project_path"
   ]
  },
  {
   "cell_type": "code",
   "execution_count": null,
   "id": "30ae1be3",
   "metadata": {},
   "outputs": [],
   "source": []
  }
 ],
 "metadata": {
  "kernelspec": {
   "display_name": "Kedro (enefit)",
   "language": "python",
   "name": "kedro_enefit"
  },
  "language_info": {
   "codemirror_mode": {
    "name": "ipython",
    "version": 3
   },
   "file_extension": ".py",
   "mimetype": "text/x-python",
   "name": "python",
   "nbconvert_exporter": "python",
   "pygments_lexer": "ipython3",
   "version": "3.9.18"
  }
 },
 "nbformat": 4,
 "nbformat_minor": 5
}
